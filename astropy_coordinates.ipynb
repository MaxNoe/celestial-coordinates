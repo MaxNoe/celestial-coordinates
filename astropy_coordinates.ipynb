{
 "cells": [
  {
   "cell_type": "markdown",
   "metadata": {},
   "source": [
    "# Astropy Coordinates Introduction\n",
    "\n",
    "\n",
    "In the end, I'll show a new method of speeding up astropy coordinate transforms I developed together with Benjamin Winkel (MPI Radioastronomie Bonn).\n",
    "\n",
    "This is merged but not yet released, it will be part of astropy 4.2."
   ]
  },
  {
   "cell_type": "code",
   "execution_count": null,
   "metadata": {},
   "outputs": [],
   "source": [
    "import astropy\n",
    "\n",
    "astropy.__version__  # I will be using the current astropy master, not yet released"
   ]
  },
  {
   "cell_type": "code",
   "execution_count": null,
   "metadata": {},
   "outputs": [],
   "source": [
    "# general imports\n",
    "import numpy as np\n",
    "import astropy.units as u\n",
    "import matplotlib.pyplot as plt\n",
    "\n",
    "\n",
    "%config InlineBackend.figure_formats = ['svg']\n",
    "%matplotlib inline\n"
   ]
  },
  {
   "cell_type": "code",
   "execution_count": null,
   "metadata": {},
   "outputs": [],
   "source": [
    "plt.rcParams['figure.figsize'] = (9, 6)"
   ]
  },
  {
   "cell_type": "markdown",
   "metadata": {},
   "source": [
    "## Planning an observation\n",
    "\n",
    "Let's say we want to observe several well known sources with the LST-1 tonight, when do we observe which source?\n",
    "\n",
    "\n",
    "First, some definitions up front, the location:"
   ]
  },
  {
   "cell_type": "markdown",
   "metadata": {},
   "source": [
    "## Observatory location"
   ]
  },
  {
   "cell_type": "code",
   "execution_count": null,
   "metadata": {},
   "outputs": [],
   "source": [
    "from astropy.coordinates import EarthLocation"
   ]
  },
  {
   "cell_type": "code",
   "execution_count": null,
   "metadata": {},
   "outputs": [],
   "source": [
    "EarthLocation.get_site_names()[55:65]"
   ]
  },
  {
   "cell_type": "code",
   "execution_count": null,
   "metadata": {},
   "outputs": [],
   "source": [
    "# Somewhere near the William Herrschel Telescope\n",
    "orm = EarthLocation.of_site('Roque de los Muchachos')\n",
    "\n",
    "# more precise (From Google Earth)\n",
    "lst1 = EarthLocation(lat=28.761466 * u.deg, lon=-17.891541 * u.deg, height=2187 * u.m)\n",
    "\n",
    "orm.geodetic, lst1.geodetic"
   ]
  },
  {
   "cell_type": "markdown",
   "metadata": {},
   "source": [
    "## Time"
   ]
  },
  {
   "cell_type": "code",
   "execution_count": null,
   "metadata": {},
   "outputs": [],
   "source": [
    "from astropy.time import Time\n",
    "\n",
    "start = Time('2020-10-09T17:00Z')\n",
    "start"
   ]
  },
  {
   "cell_type": "code",
   "execution_count": null,
   "metadata": {},
   "outputs": [],
   "source": [
    "start.ut1, start.utc, start.tai, start.tt"
   ]
  },
  {
   "cell_type": "code",
   "execution_count": null,
   "metadata": {},
   "outputs": [],
   "source": [
    "# let's get some points through the night in 5 minute intervals\n",
    "obstime = start + np.arange(0, 16 * 60, 5) * u.min"
   ]
  },
  {
   "cell_type": "markdown",
   "metadata": {},
   "source": [
    "## Sources\n",
    "\n",
    "* Sources live in the skyfixed, equatorial coordinate frame: `ICRS` / `ICRF`, the default frame of `SkyCoordinate`.\n",
    "\n",
    "* Astropy also supports older reference frames, e.g. `FK5` which then needs the equinox, e.g. `J2000.0`\n",
    "\n",
    "`SkyCoordinate` can query a database of objects using `from_name`, which is quite handy:"
   ]
  },
  {
   "cell_type": "code",
   "execution_count": null,
   "metadata": {},
   "outputs": [],
   "source": [
    "from astropy.coordinates import SkyCoord"
   ]
  },
  {
   "cell_type": "code",
   "execution_count": null,
   "metadata": {},
   "outputs": [],
   "source": [
    "source_names = ['Crab', 'Mrk 501', 'Mrk 421', 'NGC 1275', 'IC310']"
   ]
  },
  {
   "cell_type": "code",
   "execution_count": null,
   "metadata": {},
   "outputs": [],
   "source": [
    "sources_icrs = {\n",
    "    name: SkyCoord.from_name(name)\n",
    "    for name in source_names\n",
    "}\n",
    "\n",
    "sources_icrs['Crab']"
   ]
  },
  {
   "cell_type": "markdown",
   "metadata": {},
   "source": [
    "### Transform to Horizontal Coordinates (AltAz)\n",
    "\n",
    "Astropy uses a graph of coordinate frame transformation, to enable transformation from and to any frame,\n",
    "as long as all needed information (frame attributes) are available."
   ]
  },
  {
   "cell_type": "code",
   "execution_count": null,
   "metadata": {},
   "outputs": [],
   "source": [
    "from astropy.coordinates import AltAz\n",
    "\n",
    "# first for one time, just to take a look\n",
    "altaz = AltAz(obstime=start, location=lst1)\n",
    "\n",
    "crab_altaz = sources_icrs['Crab'].transform_to(altaz)\n",
    "\n",
    "# astropy primarily uses alt, but also provides zen\n",
    "crab_altaz.alt, crab_altaz.az, crab_altaz.zen"
   ]
  },
  {
   "cell_type": "code",
   "execution_count": null,
   "metadata": {},
   "outputs": [],
   "source": [
    "# now for all times and sources\n",
    "altaz = AltAz(obstime=obstime, location=lst1)\n",
    "\n",
    "sources_altaz = {n: s.transform_to(altaz) for n, s in sources_icrs.items()}"
   ]
  },
  {
   "cell_type": "code",
   "execution_count": null,
   "metadata": {},
   "outputs": [],
   "source": [
    "# Let's also get the sun and moon to make sure it's not too bright\n",
    "\n",
    "from astropy.coordinates import get_sun, get_moon\n",
    "\n",
    "sun = get_sun(obstime).transform_to(altaz)\n",
    "moon = get_moon(obstime).transform_to(altaz)"
   ]
  },
  {
   "cell_type": "code",
   "execution_count": null,
   "metadata": {
    "scrolled": false
   },
   "outputs": [],
   "source": [
    "fig, ax = plt.subplots()\n",
    "\n",
    "x = obstime.to_datetime()\n",
    "\n",
    "for name, source_altaz in sources_altaz.items():\n",
    "    ax.plot(\n",
    "        x,\n",
    "        source_altaz.zen.to_value(u.deg),\n",
    "        label=name,\n",
    "    )\n",
    "    \n",
    "ax.plot(x, sun.zen.deg, color='xkcd:yellow', label='Sun')\n",
    "ax.plot(x, moon.zen.deg, color='gray', label='Moon')\n",
    "\n",
    "\n",
    "# Fill twilight zones\n",
    "\n",
    "ax.fill_between(x, 0, 120, where=(sun.alt.deg > -18), color='k', alpha=0.5, lw=0)\n",
    "ax.fill_between(x, 0, 120, where=sun.alt.deg > -12, color='k', alpha=0.3, lw=0)\n",
    "\n",
    "ax.set_yticks([0, 30, 60, 90, 102, 108])\n",
    "ax.set_yticklabels([0, 30, 60, 90, 'Nautical dusk/dawn', 'Astronomical dusk/dawn'])\n",
    "ax.yaxis.grid()\n",
    "\n",
    "ax.legend(ncol=len(source_names) + 2, bbox_to_anchor=[0.5, 1.01], loc='lower center')\n",
    "ax.set_ylim(120, 0)\n",
    "ax.set_xmargin(0)\n",
    "fig.autofmt_xdate()"
   ]
  },
  {
   "cell_type": "markdown",
   "metadata": {},
   "source": [
    "## Speeding Coordinate Transformations using Interpolation\n",
    "\n",
    "\n",
    "Slow transformation times for many (thousands to millions) of coordinates close in time were a major pain point for use with IACTs.\n",
    "\n",
    "LST: 10.000 Events per second, almost all need the transformation from AltAz to ICRS after the event reconstruction.\n",
    "\n",
    "* First PR: https://github.com/astropy/astropy/pull/6068 (2017, Benjamin Winkel)\n",
    "\n",
    "  Interpolation and non-interpolation case was inter-twined and not easy to reason about.  \n",
    "  ⇒ Progress stalled for 3 years.\n",
    "\n",
    "* Second PR: https://github.com/astropy/astropy/pull/10647 (2020, by me).  \n",
    "  \n",
    "  Refactored to cleanly separate the default from the interpolating approach. Added examples, docs and tests.\n",
    "  Merged last month."
   ]
  },
  {
   "cell_type": "code",
   "execution_count": null,
   "metadata": {},
   "outputs": [],
   "source": [
    "# random lst events, 100 000 events in the field of view\n",
    "\n",
    "alt = np.random.normal(70, 0.1, 100_000) * u.deg\n",
    "az = np.random.normal(0, 0.1, len(alt)) * u.deg\n",
    "obstime = Time('2020-10-01T02:00') + np.random.uniform(0, 10, len(alt)) * u.min\n",
    "\n",
    "altaz = SkyCoord(alt=alt, az=az, frame=AltAz(obstime=obstime, location=lst1))"
   ]
  },
  {
   "cell_type": "code",
   "execution_count": null,
   "metadata": {},
   "outputs": [],
   "source": [
    "%%time\n",
    "\n",
    "icrs = altaz.transform_to('icrs')"
   ]
  },
  {
   "cell_type": "markdown",
   "metadata": {},
   "source": [
    "## Excursion: profiling\n",
    "\n",
    "What exactly is so slow here?"
   ]
  },
  {
   "cell_type": "code",
   "execution_count": null,
   "metadata": {},
   "outputs": [],
   "source": [
    "%%prun -r -q -D coordinates.perf\n",
    "\n",
    "\n",
    "icrs = altaz.transform_to('icrs')"
   ]
  },
  {
   "cell_type": "code",
   "execution_count": null,
   "metadata": {},
   "outputs": [],
   "source": [
    "profile = _"
   ]
  },
  {
   "cell_type": "code",
   "execution_count": null,
   "metadata": {},
   "outputs": [],
   "source": [
    "profile.strip_dirs().sort_stats('tottime').print_stats(20)"
   ]
  },
  {
   "cell_type": "markdown",
   "metadata": {},
   "source": [
    "## The interpolation solution\n",
    "\n",
    "We saw that earth position and velocity take the most time (Transformation from Solarsystem barycenter to "
   ]
  },
  {
   "cell_type": "code",
   "execution_count": null,
   "metadata": {},
   "outputs": [],
   "source": [
    "from astropy.coordinates.erfa_astrom import erfa_astrom, ErfaAstromInterpolator"
   ]
  },
  {
   "cell_type": "code",
   "execution_count": null,
   "metadata": {},
   "outputs": [],
   "source": [
    "%%time\n",
    "\n",
    "with erfa_astrom.set(ErfaAstromInterpolator(time_resolution=5 * u.min)):\n",
    "    \n",
    "    icrs_interpolated = altaz.transform_to('icrs')"
   ]
  },
  {
   "cell_type": "code",
   "execution_count": null,
   "metadata": {},
   "outputs": [],
   "source": [
    "((15.9 * u.s) / (175 * u.ms)).to(u.one)"
   ]
  },
  {
   "cell_type": "code",
   "execution_count": null,
   "metadata": {},
   "outputs": [],
   "source": [
    "icrs_interpolated.separation(icrs).max().to_value(u.microarcsecond)"
   ]
  }
 ],
 "metadata": {
  "kernelspec": {
   "display_name": "Python 3",
   "language": "python",
   "name": "python3"
  },
  "language_info": {
   "codemirror_mode": {
    "name": "ipython",
    "version": 3
   },
   "file_extension": ".py",
   "mimetype": "text/x-python",
   "name": "python",
   "nbconvert_exporter": "python",
   "pygments_lexer": "ipython3",
   "version": "3.7.9"
  }
 },
 "nbformat": 4,
 "nbformat_minor": 4
}
